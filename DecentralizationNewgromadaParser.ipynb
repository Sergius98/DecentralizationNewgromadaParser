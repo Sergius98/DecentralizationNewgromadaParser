{
  "nbformat": 4,
  "nbformat_minor": 0,
  "metadata": {
    "colab": {
      "name": "DecentralizationNewgromadaParser.ipynb",
      "provenance": [],
      "collapsed_sections": [],
      "authorship_tag": "ABX9TyPhUFjgcka+aCLcOlWWcKDZ"
    },
    "kernelspec": {
      "name": "python3",
      "display_name": "Python 3"
    }
  },
  "cells": [
    {
      "cell_type": "code",
      "metadata": {
        "id": "Ds2F4i0ZvIId"
      },
      "source": [
        "# running parameters\r\n",
        "filename = 'DecentralizationNewgromada.xlsx'\r\n",
        "url = 'https://decentralization.gov.ua/newgromada?page={}'\r\n",
        "i_start = 1\r\n",
        "i_stop = 72 + 1"
      ],
      "execution_count": 2,
      "outputs": []
    },
    {
      "cell_type": "markdown",
      "metadata": {
        "id": "e6uuuowj0Mjz"
      },
      "source": [
        "### 1. Scrape the website with python selenium"
      ]
    },
    {
      "cell_type": "code",
      "metadata": {
        "id": "uz_cRrfZg2bD"
      },
      "source": [
        "################################################################################\r\n",
        "####################### install selenium in google colab #######################\r\n",
        "################################################################################\r\n",
        "\r\n",
        "!pip install selenium\r\n",
        "!apt-get update # to update ubuntu to correctly run apt install\r\n",
        "!apt install chromium-chromedriver\r\n",
        "!cp /usr/lib/chromium-browser/chromedriver /usr/bin\r\n",
        "import sys\r\n",
        "sys.path.insert(0,'/usr/lib/chromium-browser/chromedriver')\r\n",
        "from selenium import webdriver\r\n",
        "chrome_options = webdriver.ChromeOptions()\r\n",
        "chrome_options.add_argument('--headless')\r\n",
        "chrome_options.add_argument('--no-sandbox')\r\n",
        "chrome_options.add_argument('--disable-dev-shm-usage')\r\n",
        "wd = webdriver.Chrome('chromedriver',chrome_options=chrome_options)\r\n",
        "wd.get(url)\r\n",
        "\r\n",
        "################################################################################"
      ],
      "execution_count": null,
      "outputs": []
    },
    {
      "cell_type": "code",
      "metadata": {
        "id": "5VagknaRfNmN"
      },
      "source": [
        "from selenium import webdriver\r\n",
        "from selenium.webdriver.common.by import By\r\n",
        "from selenium.webdriver.support.ui import WebDriverWait\r\n",
        "from selenium.webdriver.support import expected_conditions as EC"
      ],
      "execution_count": 4,
      "outputs": []
    },
    {
      "cell_type": "code",
      "metadata": {
        "id": "vsm8lqVZxXwy"
      },
      "source": [
        "# split a record string by end of line symbol\r\n",
        "\r\n",
        "def parse_record(el):\r\n",
        "    val_string = el.text\r\n",
        "    val_list = val_string.split(\"\\n\")\r\n",
        "    return val_list\r\n",
        "\r\n",
        "# def parse_header(el):\r\n",
        "#     val_string = el.text\r\n",
        "#     val_list = val_string.split(\"\\n\")\r\n",
        "#     return val_list[0]"
      ],
      "execution_count": 5,
      "outputs": []
    },
    {
      "cell_type": "code",
      "metadata": {
        "id": "xJUdw0YS7LUj"
      },
      "source": [
        "browser = webdriver.Chrome('chromedriver',chrome_options=chrome_options)"
      ],
      "execution_count": null,
      "outputs": []
    },
    {
      "cell_type": "code",
      "metadata": {
        "id": "w5PwH51XwtgV"
      },
      "source": [
        "# get headers with selenium\r\n",
        "\r\n",
        "\r\n",
        "browser.get(url.format(1))\r\n",
        "\r\n",
        "elements = browser.find_elements_by_class_name(\"tooltip-show\")\r\n",
        "headers = [el.get_attribute(\"data-original-title\") for el in elements[1:8]]\r\n",
        "\r\n",
        "print(headers)\r\n",
        "\r\n",
        "# browser.get(url.format(1))\r\n",
        "#\r\n",
        "# elements = browser.find_elements_by_class_name(\"select-design\")\r\n",
        "# headers = [parse_header(el) for el in elements[:7]]\r\n",
        "#\r\n",
        "# print(headers)"
      ],
      "execution_count": null,
      "outputs": []
    },
    {
      "cell_type": "code",
      "metadata": {
        "id": "GlphViuH1alL"
      },
      "source": [
        "# get records with selenium\r\n",
        "\r\n",
        "values = []\r\n",
        "for i in range(i_start, i_stop):\r\n",
        "  browser.get(url.format(i))\r\n",
        "  #wait = WebDriverWait(browser, 20)\r\n",
        "  elements = browser.find_elements_by_class_name(\"community-table\")\r\n",
        "  #values = [parse_element(el) for el in elements]\r\n",
        "  for el in elements:\r\n",
        "    values.append(parse_record(el))\r\n",
        "  print(values[-1])\r\n",
        "  print(len(values))"
      ],
      "execution_count": null,
      "outputs": []
    },
    {
      "cell_type": "code",
      "metadata": {
        "id": "b9IYo6kM7REH"
      },
      "source": [
        "browser.quit()"
      ],
      "execution_count": 9,
      "outputs": []
    },
    {
      "cell_type": "markdown",
      "metadata": {
        "id": "KEyZZbWP0qVY"
      },
      "source": [
        "### 2. Export data to exel with pandas"
      ]
    },
    {
      "cell_type": "code",
      "metadata": {
        "id": "Mu5RbGfbBWo9"
      },
      "source": [
        "!pip install xlsxwriter"
      ],
      "execution_count": null,
      "outputs": []
    },
    {
      "cell_type": "code",
      "metadata": {
        "id": "0A5GuJJzmqEk"
      },
      "source": [
        "import pandas as pd\r\n",
        "from google.colab import files"
      ],
      "execution_count": 11,
      "outputs": []
    },
    {
      "cell_type": "code",
      "metadata": {
        "colab": {
          "base_uri": "https://localhost:8080/",
          "height": 598
        },
        "id": "T86fIlTb81Ha",
        "outputId": "61c3bc26-6d63-43c5-cc52-e0fef0a6ade2"
      },
      "source": [
        "# create data frame and set headers as columns\r\n",
        "\r\n",
        "df = pd.DataFrame(values)\r\n",
        "df.columns = headers\r\n",
        "df"
      ],
      "execution_count": 12,
      "outputs": [
        {
          "output_type": "execute_result",
          "data": {
            "text/html": [
              "<div>\n",
              "<style scoped>\n",
              "    .dataframe tbody tr th:only-of-type {\n",
              "        vertical-align: middle;\n",
              "    }\n",
              "\n",
              "    .dataframe tbody tr th {\n",
              "        vertical-align: top;\n",
              "    }\n",
              "\n",
              "    .dataframe thead th {\n",
              "        text-align: right;\n",
              "    }\n",
              "</style>\n",
              "<table border=\"1\" class=\"dataframe\">\n",
              "  <thead>\n",
              "    <tr style=\"text-align: right;\">\n",
              "      <th></th>\n",
              "      <th>Назва громади</th>\n",
              "      <th>К-ть населення</th>\n",
              "      <th>Площа об`єднаних громад, кв.км</th>\n",
              "      <th>Кількість рад, що об'єдналися</th>\n",
              "      <th>Створена</th>\n",
              "      <th>Тип громади</th>\n",
              "      <th>Район</th>\n",
              "    </tr>\n",
              "  </thead>\n",
              "  <tbody>\n",
              "    <tr>\n",
              "      <th>0</th>\n",
              "      <td>Авангардівська територіальна громада</td>\n",
              "      <td>18690</td>\n",
              "      <td>66.5</td>\n",
              "      <td>4</td>\n",
              "      <td>2020</td>\n",
              "      <td>селищна</td>\n",
              "      <td>Одеський район</td>\n",
              "    </tr>\n",
              "    <tr>\n",
              "      <th>1</th>\n",
              "      <td>Авдіївська територіальна громада</td>\n",
              "      <td>33082</td>\n",
              "      <td>30.4</td>\n",
              "      <td>2</td>\n",
              "      <td>2020</td>\n",
              "      <td>міська</td>\n",
              "      <td>Покровський район</td>\n",
              "    </tr>\n",
              "    <tr>\n",
              "      <th>2</th>\n",
              "      <td>Агрономічна територіальна громада</td>\n",
              "      <td>9285</td>\n",
              "      <td>86.13</td>\n",
              "      <td>4</td>\n",
              "      <td>2020</td>\n",
              "      <td>сільська</td>\n",
              "      <td>Вінницький район</td>\n",
              "    </tr>\n",
              "    <tr>\n",
              "      <th>3</th>\n",
              "      <td>Аджамська територіальна громада</td>\n",
              "      <td>6051</td>\n",
              "      <td>292.0</td>\n",
              "      <td>4</td>\n",
              "      <td>2020</td>\n",
              "      <td>сільська</td>\n",
              "      <td>Кропивницький район</td>\n",
              "    </tr>\n",
              "    <tr>\n",
              "      <th>4</th>\n",
              "      <td>Ананьївська територіальна громада</td>\n",
              "      <td>22391</td>\n",
              "      <td>825.7</td>\n",
              "      <td>14</td>\n",
              "      <td>2020</td>\n",
              "      <td>міська</td>\n",
              "      <td>Подільський район</td>\n",
              "    </tr>\n",
              "    <tr>\n",
              "      <th>...</th>\n",
              "      <td>...</td>\n",
              "      <td>...</td>\n",
              "      <td>...</td>\n",
              "      <td>...</td>\n",
              "      <td>...</td>\n",
              "      <td>...</td>\n",
              "      <td>...</td>\n",
              "    </tr>\n",
              "    <tr>\n",
              "      <th>1433</th>\n",
              "      <td>Ярмолинецька територіальна громада</td>\n",
              "      <td>19314</td>\n",
              "      <td>550.0</td>\n",
              "      <td>20</td>\n",
              "      <td>2020</td>\n",
              "      <td>селищна</td>\n",
              "      <td>Хмельницький район</td>\n",
              "    </tr>\n",
              "    <tr>\n",
              "      <th>1434</th>\n",
              "      <td>Ярославицька територіальна громада</td>\n",
              "      <td>2721</td>\n",
              "      <td>108.5</td>\n",
              "      <td>2</td>\n",
              "      <td>2020</td>\n",
              "      <td>сільська</td>\n",
              "      <td>Дубенський район</td>\n",
              "    </tr>\n",
              "    <tr>\n",
              "      <th>1435</th>\n",
              "      <td>Ярунська територіальна громада</td>\n",
              "      <td>8018</td>\n",
              "      <td>255.8</td>\n",
              "      <td>7</td>\n",
              "      <td>2020</td>\n",
              "      <td>сільська</td>\n",
              "      <td>Новоград-Волинський район</td>\n",
              "    </tr>\n",
              "    <tr>\n",
              "      <th>1436</th>\n",
              "      <td>Ясінянська територіальна громада</td>\n",
              "      <td>18754</td>\n",
              "      <td>533.6</td>\n",
              "      <td>4</td>\n",
              "      <td>2020</td>\n",
              "      <td>селищна</td>\n",
              "      <td>Рахівський район</td>\n",
              "    </tr>\n",
              "    <tr>\n",
              "      <th>1437</th>\n",
              "      <td>Яськівська територіальна громада</td>\n",
              "      <td>8560</td>\n",
              "      <td>214.4</td>\n",
              "      <td>2</td>\n",
              "      <td>2020</td>\n",
              "      <td>сільська</td>\n",
              "      <td>Одеський район</td>\n",
              "    </tr>\n",
              "  </tbody>\n",
              "</table>\n",
              "<p>1438 rows × 7 columns</p>\n",
              "</div>"
            ],
            "text/plain": [
              "                             Назва громади  ...                      Район\n",
              "0     Авангардівська територіальна громада  ...             Одеський район\n",
              "1         Авдіївська територіальна громада  ...          Покровський район\n",
              "2        Агрономічна територіальна громада  ...           Вінницький район\n",
              "3          Аджамська територіальна громада  ...        Кропивницький район\n",
              "4        Ананьївська територіальна громада  ...          Подільський район\n",
              "...                                    ...  ...                        ...\n",
              "1433    Ярмолинецька територіальна громада  ...         Хмельницький район\n",
              "1434    Ярославицька територіальна громада  ...           Дубенський район\n",
              "1435        Ярунська територіальна громада  ...  Новоград-Волинський район\n",
              "1436      Ясінянська територіальна громада  ...           Рахівський район\n",
              "1437      Яськівська територіальна громада  ...             Одеський район\n",
              "\n",
              "[1438 rows x 7 columns]"
            ]
          },
          "metadata": {
            "tags": []
          },
          "execution_count": 12
        }
      ]
    },
    {
      "cell_type": "code",
      "metadata": {
        "id": "yX9T-wXjfmwd"
      },
      "source": [
        "# save dataframe to exel\r\n",
        "\r\n",
        "writer = pd.ExcelWriter(filename, engine='xlsxwriter')\r\n",
        "df.to_excel(writer, sheet_name='welcome', index=False)\r\n",
        "writer.save()"
      ],
      "execution_count": 13,
      "outputs": []
    },
    {
      "cell_type": "code",
      "metadata": {
        "colab": {
          "base_uri": "https://localhost:8080/",
          "height": 17
        },
        "id": "MRKo4ergB-C8",
        "outputId": "0e677f2d-e26d-49e3-c6aa-e8483ecac916"
      },
      "source": [
        "# open prompt to download file from the google colab\r\n",
        "\r\n",
        "files.download(filename)"
      ],
      "execution_count": 14,
      "outputs": [
        {
          "output_type": "display_data",
          "data": {
            "application/javascript": [
              "\n",
              "    async function download(id, filename, size) {\n",
              "      if (!google.colab.kernel.accessAllowed) {\n",
              "        return;\n",
              "      }\n",
              "      const div = document.createElement('div');\n",
              "      const label = document.createElement('label');\n",
              "      label.textContent = `Downloading \"${filename}\": `;\n",
              "      div.appendChild(label);\n",
              "      const progress = document.createElement('progress');\n",
              "      progress.max = size;\n",
              "      div.appendChild(progress);\n",
              "      document.body.appendChild(div);\n",
              "\n",
              "      const buffers = [];\n",
              "      let downloaded = 0;\n",
              "\n",
              "      const channel = await google.colab.kernel.comms.open(id);\n",
              "      // Send a message to notify the kernel that we're ready.\n",
              "      channel.send({})\n",
              "\n",
              "      for await (const message of channel.messages) {\n",
              "        // Send a message to notify the kernel that we're ready.\n",
              "        channel.send({})\n",
              "        if (message.buffers) {\n",
              "          for (const buffer of message.buffers) {\n",
              "            buffers.push(buffer);\n",
              "            downloaded += buffer.byteLength;\n",
              "            progress.value = downloaded;\n",
              "          }\n",
              "        }\n",
              "      }\n",
              "      const blob = new Blob(buffers, {type: 'application/binary'});\n",
              "      const a = document.createElement('a');\n",
              "      a.href = window.URL.createObjectURL(blob);\n",
              "      a.download = filename;\n",
              "      div.appendChild(a);\n",
              "      a.click();\n",
              "      div.remove();\n",
              "    }\n",
              "  "
            ],
            "text/plain": [
              "<IPython.core.display.Javascript object>"
            ]
          },
          "metadata": {
            "tags": []
          }
        },
        {
          "output_type": "display_data",
          "data": {
            "application/javascript": [
              "download(\"download_f2eee23d-5e7b-40c2-b33a-9e8d5bee9923\", \"DecentralizationNewgromada.xlsx\", 72997)"
            ],
            "text/plain": [
              "<IPython.core.display.Javascript object>"
            ]
          },
          "metadata": {
            "tags": []
          }
        }
      ]
    }
  ]
}